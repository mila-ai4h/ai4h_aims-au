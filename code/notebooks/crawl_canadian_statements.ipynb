{
 "cells": [
  {
   "cell_type": "code",
   "execution_count": null,
   "metadata": {},
   "outputs": [],
   "source": [
    "import pandas as pd\n",
    "import requests\n",
    "from bs4 import BeautifulSoup"
   ]
  },
  {
   "cell_type": "code",
   "execution_count": null,
   "metadata": {},
   "outputs": [],
   "source": [
    "# There are 6167 statements, 50 results per page, and 124 pages in the search results\n",
    "search_urls = [\n",
    "    f\"https://www.publicsafety.gc.ca/cnt/rsrcs/lbrr/ctlg/rslts-en.aspx?l=7&nb=50&pn={page}\" for page in range(1, 124)\n",
    "]\n",
    "\n",
    "# Get the urls for each statement page\n",
    "statement_page_urls = []\n",
    "for url in search_urls:\n",
    "    response = requests.get(url)\n",
    "    soup = BeautifulSoup(response.content)\n",
    "\n",
    "    try:\n",
    "        # Get all of the table rows and extract the 'a' (anchor) tag with the 'href' attribute\n",
    "        rows = soup.find_all(\"tr\")\n",
    "        for row in rows:\n",
    "            link_tag = row.find(\"a\", href=True)\n",
    "            if link_tag:\n",
    "                link = \"https://www.publicsafety.gc.ca/cnt/rsrcs/lbrr/ctlg/\" + link_tag[\"href\"]\n",
    "                statement_page_urls.append(link)\n",
    "    except Exception:\n",
    "        print(\"Failed to retrieve the statement pages on page: \", url)\n",
    "\n",
    "print(f\"Found {len(statement_page_urls)} statement pages to crawl.\")"
   ]
  },
  {
   "cell_type": "code",
   "execution_count": null,
   "metadata": {},
   "outputs": [],
   "source": [
    "# Get the title and statement pdf url for each statement page\n",
    "data = {\n",
    "    \"StatementName\": [],\n",
    "    \"StatementURL\": [],\n",
    "}\n",
    "\n",
    "for url in statement_page_urls:\n",
    "    response = requests.get(url)\n",
    "    soup = BeautifulSoup(response.content)\n",
    "\n",
    "    try:\n",
    "        title = None\n",
    "        for t in soup.find_all(\"h2\"):\n",
    "            if \"(2024)\" in t.text.strip():\n",
    "                title = t.text.strip()\n",
    "\n",
    "        # Fails for french statments with string \"Accès en ligne\", but we want to skip these anyways...\n",
    "        link = soup.find(\"a\", string=\"Online access\")[\"href\"]\n",
    "\n",
    "        data[\"StatementName\"].append(title)\n",
    "        data[\"StatementURL\"].append(link)\n",
    "\n",
    "    except Exception:\n",
    "        print(\"Failed to retrieve the title and statement url for page: \", url)"
   ]
  },
  {
   "cell_type": "code",
   "execution_count": null,
   "metadata": {},
   "outputs": [],
   "source": [
    "df = pd.DataFrame.from_dict(data)\n",
    "print(df.head())\n",
    "df.to_csv(\"Canadian_Statement_Metadata.csv\")"
   ]
  }
 ],
 "metadata": {
  "kernelspec": {
   "display_name": "qut01",
   "language": "python",
   "name": "python3"
  },
  "language_info": {
   "codemirror_mode": {
    "name": "ipython",
    "version": 3
   },
   "file_extension": ".py",
   "mimetype": "text/x-python",
   "name": "python",
   "nbconvert_exporter": "python",
   "pygments_lexer": "ipython3",
   "version": "3.11.10"
  }
 },
 "nbformat": 4,
 "nbformat_minor": 2
}
