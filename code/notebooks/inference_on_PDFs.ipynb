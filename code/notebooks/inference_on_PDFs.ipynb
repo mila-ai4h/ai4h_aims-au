{
 "cells": [
  {
   "cell_type": "markdown",
   "id": "7ca9c9260d6e732b",
   "metadata": {},
   "source": [
    "# AIMS.au Inference on PDFs Demo\n",
    "\n",
    "This notebook shows how to parse a PDF file and turn its content into preprocessed sentences\n",
    "that a baseline model may process and convert into relevance predictions.\n",
    "\n",
    "Here, we assume that no metadata, no images, and really nothing else but the text itself is needed\n",
    "for a model to generate its predictions. This scenario only corresponds to baseline models used\n",
    "as part of the proposed AIMS.au benchmark.\n",
    "\n",
    "For a demo showing how to parse the statements contained in the full dataset,\n",
    "see [this notebook](./data_parsing_demo.ipynb).\n",
    "\n",
    "This notebook was last updated on 2024-07-31 for framework v0.5.2."
   ]
  },
  {
   "cell_type": "code",
   "execution_count": null,
   "id": "f8951d077d9f3f7b",
   "metadata": {},
   "outputs": [],
   "source": [
    "import fitz\n",
    "import numpy as np\n",
    "import pandas as pd\n",
    "import torch\n",
    "\n",
    "import qut01"
   ]
  },
  {
   "cell_type": "code",
   "execution_count": null,
   "id": "initial_id",
   "metadata": {},
   "outputs": [],
   "source": [
    "# first step: provide a path to a local PDF file that you want to process\n",
    "input_pdf_path = \"/tmp/statement_to_analyze.pdf\"\n",
    "\n",
    "# we will open this PDF and extract its raw text using PyMuPDF (fitz), an open source library\n",
    "with fitz.open(input_pdf_path) as pdf_reader:\n",
    "    statement_text = []\n",
    "    for page_idx in range(pdf_reader.page_count):\n",
    "        page = pdf_reader.load_page(page_idx)\n",
    "        statement_text.append(page.get_text(\"text\"))\n",
    "    statement_text = \"\\n\".join(statement_text)\n",
    "# note: of course, if the above PDF only contains embedded text, you won't get anything here\n",
    "assert len(statement_text) != 0\n",
    "print(f\"STATEMENT TEXT:\\n\\n{statement_text}\")"
   ]
  },
  {
   "cell_type": "code",
   "execution_count": null,
   "id": "d57ed108765668f7",
   "metadata": {},
   "outputs": [],
   "source": [
    "# next, we'll convert this raw text into a list of sentences\n",
    "# (note: we create a fake data batch dict to use existing processing functions)\n",
    "statement_processed_data = qut01.data.statement_utils.StatementProcessedData.create(\n",
    "    statement_tensor_data={\"fitz/text\": statement_text},\n",
    "    load_annotations=False,  # assume none exist\n",
    ")\n",
    "print(f\"statement contains {len(statement_processed_data.sentences)} sentences\")"
   ]
  },
  {
   "cell_type": "code",
   "id": "30d7102cd8b1aee5",
   "metadata": {},
   "outputs": [],
   "source": [
    "# the next step involves loading a pretrained model, and feeding it the sentences...\n",
    "# (note: these steps will depend a LOT on the type of model you intend to use)\n",
    "\n",
    "# @@@@@@@@@@@ TODO"
   ]
  }
 ],
 "metadata": {
  "kernelspec": {
   "display_name": "Python 3",
   "language": "python",
   "name": "python3"
  },
  "language_info": {
   "codemirror_mode": {
    "name": "ipython",
    "version": 2
   },
   "file_extension": ".py",
   "mimetype": "text/x-python",
   "name": "python",
   "nbconvert_exporter": "python",
   "pygments_lexer": "ipython2",
   "version": "2.7.6"
  }
 },
 "nbformat": 4,
 "nbformat_minor": 5
}
