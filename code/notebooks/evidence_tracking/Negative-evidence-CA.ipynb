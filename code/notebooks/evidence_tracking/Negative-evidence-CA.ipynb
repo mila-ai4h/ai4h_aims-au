{
 "cells": [
  {
   "cell_type": "code",
   "execution_count": 1,
   "id": "a525b35a-cf05-4e3c-ae2a-5e86dd3ec862",
   "metadata": {},
   "outputs": [
    {
     "name": "stderr",
     "output_type": "stream",
     "text": [
      "Device set to use mps\n"
     ]
    }
   ],
   "source": [
    "from transformers import pipeline\n",
    "\n",
    "classifier = pipeline(\"zero-shot-classification\", model=\"facebook/bart-large-mnli\",device='mps')\n",
    "\n",
    "hypothesis_ne = \"The statement '{}' downplays, denies, or avoids\"\n",
    "hypothesis_nne = \"The statement '{}' acknowledges\"\n",
    "\n",
    "# Labels\n",
    "targets = [\"Yes\", \"No\"]\n",
    "\n",
    "#EZ-STANCE: A Large Dataset for English Zero-Shot Stance Detection"
   ]
  },
  {
   "cell_type": "code",
   "execution_count": 2,
   "id": "1b335cdb-f8f9-4da7-b064-98e0469968ae",
   "metadata": {},
   "outputs": [],
   "source": [
    "import pandas as pd\n",
    "import ast\n",
    "from transformers import AutoModelForCausalLM, AutoTokenizer\n",
    "from huggingface_hub import login\n",
    "import numpy as np\n",
    "import math\n",
    "future = pd.read_csv(\"./data/ca_futre_labels.csv\", header=None).iloc[:,0].to_list()\n",
    "\n",
    "idxx = pd.read_csv(\"./data/ca_future.csv\", encoding=\"latin1\").dropna(how='all').sentence_id.astype(int)\n",
    "# for model:predictions\n",
    "labels = pd.read_csv(\"./data/ca_future.csv\", encoding=\"latin1\").dropna(how='all').targets\n",
    "sentences = pd.read_csv(\"./data/ca_future.csv\", encoding=\"latin1\").dropna(how='all').sentence_text\n",
    "labels = [ast.literal_eval(str(i)) if not isinstance(i, float) or not math.isnan(i) else [0 for ii in range(11)] for i in labels]"
   ]
  },
  {
   "cell_type": "code",
   "execution_count": 3,
   "id": "f5e9f2b7-af1d-48d8-a382-2cc3d64d1ab0",
   "metadata": {},
   "outputs": [],
   "source": [
    "statement_idx = pd.read_csv(\"./data/ca_future.csv\", encoding=\"latin1\").dropna(how='all').statement_id.tolist()"
   ]
  },
  {
   "cell_type": "code",
   "execution_count": 4,
   "id": "4a3ff127-da6b-4027-8ef1-b2990e889823",
   "metadata": {},
   "outputs": [],
   "source": [
    "not_used = pd.read_csv(\"./data/ca_future.csv\" , encoding=\"latin1\").dropna(how='all')\n",
    "not_used_id = not_used.iloc[:,7].apply(lambda x: \"negative\" in str(x))\n",
    "negative_instances = not_used[not_used_id].sentence_id.astype(int).tolist()"
   ]
  },
  {
   "cell_type": "code",
   "execution_count": 5,
   "id": "e04e720e-25a3-447d-a0c2-7cdd53c368c3",
   "metadata": {},
   "outputs": [],
   "source": [
    "import math\n",
    "task_future_labels = []\n",
    "st = []\n",
    "for sentence, data, i in zip(sentences, np.array(labels), idxx):\n",
    "    \n",
    "    for ii, lbs in enumerate(data[3:]):\n",
    "        if lbs == 1:\n",
    "            if i in negative_instances:\n",
    "                task_future_labels.append(1)\n",
    "            else:\n",
    "                task_future_labels.append(0)\n",
    "            st.append(sentence)"
   ]
  },
  {
   "cell_type": "code",
   "execution_count": 6,
   "id": "c4b01b65-9c01-417d-b4d4-01f46be077ed",
   "metadata": {},
   "outputs": [
    {
     "data": {
      "text/plain": [
       "101"
      ]
     },
     "execution_count": 6,
     "metadata": {},
     "output_type": "execute_result"
    }
   ],
   "source": [
    "len(negative_instances)"
   ]
  },
  {
   "cell_type": "code",
   "execution_count": 7,
   "id": "36800777-1a63-43f1-a2f2-d1200e506eab",
   "metadata": {},
   "outputs": [
    {
     "data": {
      "text/plain": [
       "3658"
      ]
     },
     "execution_count": 7,
     "metadata": {},
     "output_type": "execute_result"
    }
   ],
   "source": [
    "len(labels)"
   ]
  },
  {
   "cell_type": "code",
   "execution_count": 8,
   "id": "c96e76f0-a3a5-457f-9679-40f3c6353878",
   "metadata": {},
   "outputs": [
    {
     "data": {
      "text/plain": [
       "0.02761071623838163"
      ]
     },
     "execution_count": 8,
     "metadata": {},
     "output_type": "execute_result"
    }
   ],
   "source": [
    "101/len(labels)"
   ]
  },
  {
   "cell_type": "code",
   "execution_count": 9,
   "id": "c31aca50-f811-4b4a-a3eb-523ac758a6e2",
   "metadata": {},
   "outputs": [],
   "source": [
    "labels_name = [\n",
    "    \"approval\",\n",
    "    \"signature\",\n",
    "    \"c1 (reporting entity)\",\n",
    "    \"c2 (structure)\",\n",
    "    \"c2 (operations)\",\n",
    "    \"c2 (supply chains)\",\n",
    "    \"c3 (risk description)\",\n",
    "    \"c4 (risk mitigation)\",\n",
    "    \"c4 (remediation)\",\n",
    "    \"c5 (effectiveness)\",\n",
    "    \"c6 (consultation)\"\n",
    "]"
   ]
  },
  {
   "cell_type": "code",
   "execution_count": 10,
   "id": "b22f2802-c4e6-4a95-b0f6-7620d3adb24d",
   "metadata": {},
   "outputs": [],
   "source": [
    "import numpy as np\n",
    "import tqdm\n",
    "\n",
    "results = {key:[] for key in labels_name[3:]}\n",
    "predicted_results = []\n",
    "neg_scores = []\n",
    "pos_scores = []\n",
    "ct = {labels_name[idx+2]:0 for idx in range(9)}\n",
    "st_per_l = {labels_name[idx+2]:[] for idx in range(9)}\n",
    "score = []\n",
    "st_list = []\n",
    "new_prediction_list = []\n",
    "sen_id_list = []\n",
    "stat_id_list = []\n",
    "for sentence, data, i, si in zip(sentences, np.array(labels),idxx,statement_idx):\n",
    "    for idx, lbs in enumerate(data[3:]):\n",
    "        if lbs == 1:\n",
    "            result_ne = classifier(sentence, targets, hypothesis_template=hypothesis_ne)\n",
    "            result_nne = classifier(sentence, targets, hypothesis_template=hypothesis_nne)\n",
    "  \n",
    "            pos = result_ne['scores'][0] if result_ne['labels'][0] == targets[0] else result_ne['scores'][1]\n",
    "            neg = result_nne['scores'][0] if result_nne['labels'][0] == targets[0] else result_nne['scores'][1]\n",
    "            pos_scores.append(pos)\n",
    "            neg_scores.append(neg)\n",
    "            st_list.append(sentence)\n",
    "            new_prediction_list.append(data)\n",
    "            if pos - neg >0.15:\n",
    "                predicted_results.append(1)\n",
    "                ct[labels_name[idx+2]] += 1\n",
    "                st_per_l[labels_name[idx+2]].append(sentence)\n",
    "                score.append(pos/(pos+neg))\n",
    "            else:\n",
    "                predicted_results.append(0)\n",
    "                score.append(neg/(pos+neg))\n",
    "            sen_id_list.append(i)\n",
    "            stat_id_list.append(si)"
   ]
  },
  {
   "cell_type": "code",
   "execution_count": 11,
   "id": "655d0133-c151-4671-8875-d1936a7a16a3",
   "metadata": {},
   "outputs": [
    {
     "data": {
      "text/plain": [
       "2179"
      ]
     },
     "execution_count": 11,
     "metadata": {},
     "output_type": "execute_result"
    }
   ],
   "source": [
    "len(st_list)"
   ]
  },
  {
   "cell_type": "code",
   "execution_count": 12,
   "id": "aeed3eed-6311-4f7b-a00d-f2dc27a8b557",
   "metadata": {},
   "outputs": [
    {
     "name": "stdout",
     "output_type": "stream",
     "text": [
      "0.9366681964203764\n",
      "0.9353436860974167\n",
      "0.6779913303463578\n"
     ]
    }
   ],
   "source": [
    "import numpy as np\n",
    "from sklearn.metrics import f1_score\n",
    "\n",
    "print(f1_score(task_future_labels, predicted_results, average='micro')) \n",
    "print(f1_score(task_future_labels, predicted_results, average='weighted'))\n",
    "print(f1_score(task_future_labels, predicted_results, average='macro'))"
   ]
  }
 ],
 "metadata": {
  "kernelspec": {
   "display_name": "Python [conda env:base] *",
   "language": "python",
   "name": "conda-base-py"
  },
  "language_info": {
   "codemirror_mode": {
    "name": "ipython",
    "version": 3
   },
   "file_extension": ".py",
   "mimetype": "text/x-python",
   "name": "python",
   "nbconvert_exporter": "python",
   "pygments_lexer": "ipython3",
   "version": "3.12.7"
  }
 },
 "nbformat": 4,
 "nbformat_minor": 5
}
