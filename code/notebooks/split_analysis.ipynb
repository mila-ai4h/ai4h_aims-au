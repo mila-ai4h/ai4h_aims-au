{
 "cells": [
  {
   "cell_type": "markdown",
   "id": "502398ab8abb158b",
   "metadata": {},
   "source": [
    "# AIMS.au Data Split Analysis\n",
    "\n",
    "This notebook analyzes the data split done by the data module. For a more simple demo showing\n",
    "how to parse the statement dataset, see [this notebook](./data_parsing_demo.ipynb).\n",
    "\n",
    "This notebook was last updated on 2024-05-07 for framework v0.5.2."
   ]
  },
  {
   "cell_type": "code",
   "execution_count": null,
   "id": "initial_id",
   "metadata": {},
   "outputs": [],
   "source": [
    "import tqdm\n",
    "\n",
    "import qut01"
   ]
  },
  {
   "cell_type": "markdown",
   "id": "a0b398a5500eacf",
   "metadata": {},
   "source": [
    "## Gold subset definition and analysis"
   ]
  },
  {
   "cell_type": "code",
   "execution_count": null,
   "id": "f4f59138e90b2eaf",
   "metadata": {},
   "outputs": [],
   "source": [
    "dataset = qut01.data.dataset_parser.get_deeplake_dataset(\n",
    "    checkout_branch=qut01.data.dataset_parser.dataset_validated_branch_name,\n",
    ")\n",
    "data_parser = qut01.data.dataset_parser.DataParser(dataset)"
   ]
  },
  {
   "cell_type": "code",
   "execution_count": null,
   "id": "a14d4ecca2dce0cf",
   "metadata": {},
   "outputs": [],
   "source": [
    "reserved_gold_clusters = qut01.data.split_utils.get_reserved_gold_id_clusters(data_parser)\n",
    "print(f\"number of statement clusters (based on metadata) reserved for the gold set: {len(reserved_gold_clusters)}\")\n",
    "reserved_gold_sids = sorted([sid for cluster in reserved_gold_clusters for sid in cluster])\n",
    "print(f\"number of statements reserved for the gold set: {len(reserved_gold_sids)}\")\n",
    "print(f\"reserved gold statement IDs:\\n{reserved_gold_sids}\")"
   ]
  },
  {
   "cell_type": "code",
   "execution_count": null,
   "id": "38930bcfe12c73c9",
   "metadata": {},
   "outputs": [],
   "source": [
    "gold_data = {}\n",
    "for sid in tqdm.tqdm(reserved_gold_sids, desc=\"parsing gold set data\"):\n",
    "    dataset_index = data_parser.statement_ids.index(sid)\n",
    "    processed_data: qut01.data.statement_utils.StatementProcessedData = data_parser.get_processed_data(dataset_index)\n",
    "    if processed_data.is_fully_validated:\n",
    "        statement_metadata = {\n",
    "            key: val for key, val in processed_data.statement_data.items() if key.startswith(\"metadata\")\n",
    "        }\n",
    "        gold_data[sid] = {\n",
    "            \"processed_data\": processed_data,\n",
    "            \"metadata\": statement_metadata,\n",
    "        }\n",
    "expected_valid_gold_sids = [\n",
    "    sid for c in qut01.data.split_utils.get_validated_gold_id_clusters(data_parser) for sid in c\n",
    "]\n",
    "assert set(gold_data.keys()) == set(expected_valid_gold_sids)\n",
    "print(f\"found {len(gold_data)} gold + fully validated statements:\\n{expected_valid_gold_sids}\")"
   ]
  },
  {
   "cell_type": "markdown",
   "id": "99870c92c8d1ac69",
   "metadata": {},
   "source": [
    "## Train/valid/test subsets definition and analysis"
   ]
  },
  {
   "cell_type": "code",
   "execution_count": null,
   "id": "f5b68e8b8e04032d",
   "metadata": {},
   "outputs": [],
   "source": [
    "subset_sids_map = qut01.data.split_utils.get_split_statement_ids(\n",
    "    data_parser=data_parser,\n",
    "    classif_setup=\"any\",  # produces the split for all annotation types\n",
    "    train_valid_split_ratios={\n",
    "        \"train\": 0.8,\n",
    "        \"valid\": 0.2,\n",
    "    },\n",
    "    train_valid_split_seed=0,\n",
    ")\n",
    "for subset_name, subset_sids in subset_sids_map.items():\n",
    "    if subset_name == \"gold\":\n",
    "        valid_gold_count = sum([sid in subset_sids_map[\"valid\"] for sid in subset_sids])\n",
    "        test_gold_count = sum([sid in subset_sids_map[\"test\"] for sid in subset_sids])\n",
    "        print(\n",
    "            f\"{subset_name} set has {len(subset_sids)} statements \"\n",
    "            f\"({valid_gold_count} in valid set, {test_gold_count} in test set)\"\n",
    "        )\n",
    "    else:\n",
    "        print(f\"{subset_name} set has {len(subset_sids)} statements\")\n",
    "qut01.data.split_utils.validate_split({n: sids for n, sids in subset_sids_map.items() if n != \"gold\"})"
   ]
  }
 ],
 "metadata": {
  "kernelspec": {
   "display_name": "Python 3",
   "language": "python",
   "name": "python3"
  },
  "language_info": {
   "codemirror_mode": {
    "name": "ipython",
    "version": 2
   },
   "file_extension": ".py",
   "mimetype": "text/x-python",
   "name": "python",
   "nbconvert_exporter": "python",
   "pygments_lexer": "ipython2",
   "version": "2.7.6"
  }
 },
 "nbformat": 4,
 "nbformat_minor": 5
}
