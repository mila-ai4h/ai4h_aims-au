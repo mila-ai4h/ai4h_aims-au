{
 "cells": [
  {
   "cell_type": "code",
   "execution_count": 1,
   "id": "46e0edda-7be0-4fb4-9bb6-cc5e61fce4e1",
   "metadata": {},
   "outputs": [
    {
     "name": "stdout",
     "output_type": "stream",
     "text": [
      "HYPERPARAMETERS@@@@@@@@@ learning rate 1e-05  batch size : 32  number of epochs  1  temprature  4.0  alpha  0.1\n",
      "######## YOU ARE WORKING ON DATASET  au\n",
      "/Users/duoyizhang/clf-abstract-fine-grained/eval.py:152: FutureWarning: You are using `torch.load` with `weights_only=False` (the current default value), which uses the default pickle module implicitly. It is possible to construct malicious pickle data which will execute arbitrary code during unpickling (See https://github.com/pytorch/pytorch/blob/main/SECURITY.md#untrusted-models for more details). In a future release, the default value for `weights_only` will be flipped to `True`. This limits the functions that could be executed during unpickling. Arbitrary objects will no longer be allowed to be loaded via this mode unless they are explicitly allowlisted by the user via `torch.serialization.add_safe_globals`. We recommend you start setting `weights_only=True` for any use case where you don't have full control of the loaded file. Please open an issue on GitHub for any issues related to this experimental feature.\n",
      "  state_dict = torch.load(\"AIMSDistill.pth\", map_location=device)\n",
      "  0%|                                                   | 0/150 [00:00<?, ?it/s]Compiling the model with `torch.compile` and using a `torch.cpu` device is not supported. Falling back to non-compiled mode.\n",
      "100%|█████████████████████████████████████████| 150/150 [01:55<00:00,  1.30it/s]\n",
      "\n",
      "Per-label F1 Scores:\n",
      "approval: 0.866\n",
      "signature: 0.785\n",
      "c1 (reporting entity): 0.594\n",
      "c2: 0.820\n",
      "c3 (risk description): 0.756\n",
      "c4: 0.785\n",
      "c5 (effectiveness): 0.595\n",
      "c6 (consultation): 0.722\n",
      "\n",
      "Average Loss: 0.1021\n",
      "Micro-F1: 0.774\n",
      "Macro-F1: 0.740\n",
      "Weighted-F1: 0.773\n"
     ]
    }
   ],
   "source": [
    "!python eval.py"
   ]
  },
  {
   "cell_type": "code",
   "execution_count": null,
   "id": "acc8e655-455f-4573-a951-5feab91eb82d",
   "metadata": {},
   "outputs": [],
   "source": []
  }
 ],
 "metadata": {
  "kernelspec": {
   "display_name": "Python [conda env:base] *",
   "language": "python",
   "name": "conda-base-py"
  },
  "language_info": {
   "codemirror_mode": {
    "name": "ipython",
    "version": 3
   },
   "file_extension": ".py",
   "mimetype": "text/x-python",
   "name": "python",
   "nbconvert_exporter": "python",
   "pygments_lexer": "ipython3",
   "version": "3.12.7"
  }
 },
 "nbformat": 4,
 "nbformat_minor": 5
}
